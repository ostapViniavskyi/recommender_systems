{
 "cells": [
  {
   "cell_type": "code",
   "execution_count": 10,
   "metadata": {},
   "outputs": [
    {
     "name": "stdout",
     "output_type": "stream",
     "text": [
      "The autoreload extension is already loaded. To reload it, use:\n",
      "  %reload_ext autoreload\n"
     ]
    }
   ],
   "source": [
    "import os\n",
    "import sys\n",
    "sys.path.append(os.path.join('..', 'src'))\n",
    "\n",
    "import pickle\n",
    "import time\n",
    "import pandas as pd\n",
    "import numpy as np\n",
    "import seaborn as sns\n",
    "import matplotlib.pyplot as plt\n",
    "from concurrent import futures\n",
    "\n",
    "from collaborative_filtering.user_based import UserBased\n",
    "\n",
    "import warnings\n",
    "warnings.filterwarnings(\"ignore\")\n",
    "\n",
    "sns.set()\n",
    "\n",
    "%load_ext autoreload\n",
    "%autoreload 2\n",
    "%matplotlib inline"
   ]
  },
  {
   "cell_type": "markdown",
   "metadata": {},
   "source": [
    "### Load data"
   ]
  },
  {
   "cell_type": "code",
   "execution_count": 2,
   "metadata": {},
   "outputs": [],
   "source": [
    "DATA_DIR = os.path.join('..', 'data', 'processed', 'filtering')"
   ]
  },
  {
   "cell_type": "code",
   "execution_count": 3,
   "metadata": {},
   "outputs": [],
   "source": [
    "with open(os.path.join(DATA_DIR, 'user_to_items.pickle'), 'rb') as file:\n",
    "    user_to_items = pickle.load(file)\n",
    "\n",
    "with open(os.path.join(DATA_DIR, 'train_ratings.pickle'), 'rb') as file:\n",
    "    train_ratings = pickle.load(file)\n",
    "\n",
    "with open(os.path.join(DATA_DIR, 'test_ratings.pickle'), 'rb') as file:\n",
    "    test_ratings = pickle.load(file)"
   ]
  },
  {
   "cell_type": "code",
   "execution_count": 4,
   "metadata": {},
   "outputs": [
    {
     "data": {
      "text/plain": [
       "(9166, 1998)"
      ]
     },
     "execution_count": 4,
     "metadata": {},
     "output_type": "execute_result"
    }
   ],
   "source": [
    "# get number of users and items\n",
    "M = 1 + max(\n",
    "    max([i[0] for i in train_ratings.keys()]),\n",
    "    max([i[0] for i in test_ratings.keys()])\n",
    ")\n",
    "N = 1 + max(\n",
    "    max([i[1] for i in train_ratings.keys()]),\n",
    "    max([i[1] for i in test_ratings.keys()])\n",
    ")\n",
    "M, N"
   ]
  },
  {
   "cell_type": "markdown",
   "metadata": {},
   "source": [
    "### Fit model"
   ]
  },
  {
   "cell_type": "code",
   "execution_count": 13,
   "metadata": {},
   "outputs": [],
   "source": [
    "MIN_NEIGHBORS = 10\n",
    "MAX_NEIGHBORS = 240\n",
    "MIN_COMMON_ITEMS = 2\n",
    "STEP = 10\n",
    "TRIALS = MAX_NEIGHBORS - MIN_NEIGHBORS + 1\n",
    "N_WORKERS = 12"
   ]
  },
  {
   "cell_type": "code",
   "execution_count": 14,
   "metadata": {},
   "outputs": [
    {
     "data": {
      "text/plain": [
       "[(10, 29),\n",
       " (29, 48),\n",
       " (48, 67),\n",
       " (67, 87),\n",
       " (87, 106),\n",
       " (106, 125),\n",
       " (125, 144),\n",
       " (144, 164),\n",
       " (164, 183),\n",
       " (183, 202),\n",
       " (202, 221),\n",
       " (221, 241)]"
      ]
     },
     "execution_count": 14,
     "metadata": {},
     "output_type": "execute_result"
    }
   ],
   "source": [
    "[(MIN_NEIGHBORS + i * TRIALS // N_WORKERS, MIN_NEIGHBORS +(i + 1) * TRIALS // N_WORKERS) for i in range(N_WORKERS)]"
   ]
  },
  {
   "cell_type": "code",
   "execution_count": 15,
   "metadata": {},
   "outputs": [],
   "source": [
    "def parallel_fit(min_neighbors, max_neighbors, step=STEP):\n",
    "    train_scores, test_scores = [], []\n",
    "    for neighbors in range(min_neighbors, max_neighbors, step):\n",
    "        ubcf = UserBased(M, N, neighbors=neighbors, min_common_items=MIN_COMMON_ITEMS)\n",
    "        ubcf.fit(train_ratings, user_to_items)\n",
    "        train_scores.append(ubcf.score(train_ratings))\n",
    "        test_scores.append(ubcf.score(test_ratings))        \n",
    "    return train_scores, test_scores"
   ]
  },
  {
   "cell_type": "code",
   "execution_count": 16,
   "metadata": {
    "scrolled": true
   },
   "outputs": [],
   "source": [
    "pool = futures.ProcessPoolExecutor(N_WORKERS)\n",
    "\n",
    "fs = [\n",
    "    pool.submit(\n",
    "        parallel_fit, \n",
    "        MIN_NEIGHBORS + i * TRIALS // N_WORKERS, \n",
    "        MIN_NEIGHBORS +(i + 1) * TRIALS // N_WORKERS\n",
    "    ) \n",
    "    for i in range(N_WORKERS)\n",
    "]\n",
    "futures.wait(fs)\n",
    "result = [f.result() for f in fs]"
   ]
  },
  {
   "cell_type": "code",
   "execution_count": 19,
   "metadata": {},
   "outputs": [
    {
     "data": {
      "image/png": "[encoded data removed]",
      "text/plain": [
       "<Figure size 432x288 with 1 Axes>"
      ]
     },
     "metadata": {
      "needs_background": "light"
     },
     "output_type": "display_data"
    }
   ],
   "source": [
    "train_loss = np.concatenate([lst[0] for lst in result])\n",
    "test_loss = np.concatenate([lst[1] for lst in result])\n",
    "sns.lineplot(np.arange(MIN_NEIGHBORS, MAX_NEIGHBORS + 1, STEP), train_loss)\n",
    "sns.lineplot(np.arange(MIN_NEIGHBORS, MAX_NEIGHBORS + 1, STEP), test_loss)\n",
    "plt.xticks(np.arange(MIN_NEIGHBORS, MAX_NEIGHBORS + 1, STEP * 2))\n",
    "plt.yticks(np.arange(0.5, 1.05, 0.05))\n",
    "plt.legend(['train', 'test'])\n",
    "plt.xlabel('Neighbors')\n",
    "plt.ylabel('RMSE');\n",
    "plt.savefig(\"ubcf.png\")"
   ]
  },
  {
   "cell_type": "code",
   "execution_count": 9,
   "metadata": {},
   "outputs": [
    {
     "data": {
      "text/plain": [
       "array([0.94678291, 1.0085083 , 1.02207349, 1.02253553, 1.02241805,\n",
       "       1.01762896, 1.01618085, 1.01243477, 1.00831867, 1.00450456,\n",
       "       1.00091675, 0.99790558, 0.99428486, 0.99171345, 0.98910943,\n",
       "       0.98570655, 0.98294509, 0.98148976, 0.97927874, 0.97680941,\n",
       "       0.97560791, 0.97394528, 0.97260816, 0.97121934])"
      ]
     },
     "execution_count": 9,
     "metadata": {},
     "output_type": "execute_result"
    }
   ],
   "source": [
    "test_loss"
   ]
  }
 ],
 "metadata": {
  "kernelspec": {
   "display_name": "Python 3",
   "language": "python",
   "name": "python3"
  },
  "language_info": {
   "codemirror_mode": {
    "name": "ipython",
    "version": 3
   },
   "file_extension": ".py",
   "mimetype": "text/x-python",
   "name": "python",
   "nbconvert_exporter": "python",
   "pygments_lexer": "ipython3",
   "version": "3.7.5"
  }
 },
 "nbformat": 4,
 "nbformat_minor": 4
}
