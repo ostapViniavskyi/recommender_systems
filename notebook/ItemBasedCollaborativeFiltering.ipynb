{
 "cells": [
  {
   "cell_type": "code",
   "execution_count": 1,
   "metadata": {},
   "outputs": [],
   "source": [
    "import os\n",
    "import sys\n",
    "sys.path.append(os.path.join('..', 'src'))\n",
    "\n",
    "import pickle\n",
    "import time\n",
    "import pandas as pd\n",
    "import numpy as np\n",
    "import matplotlib.pyplot as plt\n",
    "from concurrent import futures\n",
    "\n",
    "from collaborative_filtering.item_based import ItemBased\n",
    "\n",
    "import warnings\n",
    "warnings.filterwarnings(\"ignore\")\n",
    "\n",
    "%load_ext autoreload\n",
    "%autoreload 2\n",
    "%matplotlib inline"
   ]
  },
  {
   "cell_type": "markdown",
   "metadata": {},
   "source": [
    "### Load Data"
   ]
  },
  {
   "cell_type": "code",
   "execution_count": 2,
   "metadata": {},
   "outputs": [],
   "source": [
    "DATA_DIR = os.path.join('..', 'data', 'processed', 'filtering')"
   ]
  },
  {
   "cell_type": "code",
   "execution_count": 3,
   "metadata": {},
   "outputs": [],
   "source": [
    "with open(os.path.join(DATA_DIR, 'item_to_users.pickle'), 'rb') as file:\n",
    "    item_to_users = pickle.load(file)\n",
    "\n",
    "with open(os.path.join(DATA_DIR, 'train_ratings.pickle'), 'rb') as file:\n",
    "    train_ratings = pickle.load(file)\n",
    "\n",
    "with open(os.path.join(DATA_DIR, 'test_ratings.pickle'), 'rb') as file:\n",
    "    test_ratings = pickle.load(file)"
   ]
  },
  {
   "cell_type": "code",
   "execution_count": 4,
   "metadata": {},
   "outputs": [
    {
     "data": {
      "text/plain": [
       "(9166, 1998)"
      ]
     },
     "execution_count": 4,
     "metadata": {},
     "output_type": "execute_result"
    }
   ],
   "source": [
    "# get number of users and items\n",
    "M = 1 + max(\n",
    "    max([i[0] for i in train_ratings.keys()]),\n",
    "    max([i[0] for i in test_ratings.keys()])\n",
    ")\n",
    "N = 1 + max(\n",
    "    max([i[1] for i in train_ratings.keys()]),\n",
    "    max([i[1] for i in test_ratings.keys()])\n",
    ")\n",
    "M, N"
   ]
  },
  {
   "cell_type": "markdown",
   "metadata": {},
   "source": [
    "### Fit model"
   ]
  },
  {
   "cell_type": "code",
   "execution_count": 12,
   "metadata": {},
   "outputs": [],
   "source": [
    "MIN_NEIGHBORS = 1\n",
    "MAX_NEIGHBORS = 120\n",
    "STEP = 2\n",
    "TRIALS = MAX_NEIGHBORS - MIN_NEIGHBORS + 1\n",
    "N_WORKERS = 12"
   ]
  },
  {
   "cell_type": "code",
   "execution_count": 13,
   "metadata": {},
   "outputs": [],
   "source": [
    "def parallel_fit(min_neighbors, max_neighbors, step=STEP):\n",
    "    train_scores, test_scores = [], []\n",
    "    for neighbors in range(min_neighbors, max_neighbors, step):\n",
    "        ibcf = ItemBased(M, N, neighbors=neighbors)\n",
    "        ibcf.fit(train_ratings, item_to_users)\n",
    "        train_scores.append(ibcf.score(train_ratings))\n",
    "        test_scores.append(ibcf.score(test_ratings))        \n",
    "    return train_scores, test_scores"
   ]
  },
  {
   "cell_type": "code",
   "execution_count": 14,
   "metadata": {},
   "outputs": [],
   "source": [
    "pool = futures.ProcessPoolExecutor(N_WORKERS)\n",
    "\n",
    "fs = [\n",
    "    pool.submit(parallel_fit, i * TRIALS // N_WORKERS + 1, (i + 1) * TRIALS // N_WORKERS + 1) for i in range(N_WORKERS)\n",
    "]\n",
    "futures.wait(fs)\n",
    "result = [f.result() for f in fs]"
   ]
  },
  {
   "cell_type": "code",
   "execution_count": 17,
   "metadata": {},
   "outputs": [
    {
     "data": {
      "image/png": "[encoded data removed]",
      "text/plain": [
       "<Figure size 432x288 with 1 Axes>"
      ]
     },
     "metadata": {
      "needs_background": "light"
     },
     "output_type": "display_data"
    }
   ],
   "source": [
    "train_loss = np.concatenate([lst[0] for lst in result])\n",
    "test_loss = np.concatenate([lst[1] for lst in result])\n",
    "plt.plot(np.arange(MIN_NEIGHBORS, MAX_NEIGHBORS + 1, STEP), train_loss)\n",
    "plt.plot(np.arange(MIN_NEIGHBORS, MAX_NEIGHBORS + 1, STEP), test_loss)\n",
    "plt.legend(['train', 'test'])\n",
    "plt.xlabel('Neighbors')\n",
    "plt.ylabel('RMSE');"
   ]
  },
  {
   "cell_type": "code",
   "execution_count": null,
   "metadata": {},
   "outputs": [],
   "source": []
  }
 ],
 "metadata": {
  "kernelspec": {
   "display_name": "Python 3",
   "language": "python",
   "name": "python3"
  },
  "language_info": {
   "codemirror_mode": {
    "name": "ipython",
    "version": 3
   },
   "file_extension": ".py",
   "mimetype": "text/x-python",
   "name": "python",
   "nbconvert_exporter": "python",
   "pygments_lexer": "ipython3",
   "version": "3.7.5"
  }
 },
 "nbformat": 4,
 "nbformat_minor": 4
}
