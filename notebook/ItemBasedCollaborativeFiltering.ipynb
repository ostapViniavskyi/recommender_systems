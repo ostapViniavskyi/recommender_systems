{
 "cells": [
  {
   "cell_type": "code",
   "execution_count": 15,
   "metadata": {},
   "outputs": [
    {
     "name": "stdout",
     "output_type": "stream",
     "text": [
      "The autoreload extension is already loaded. To reload it, use:\n",
      "  %reload_ext autoreload\n"
     ]
    }
   ],
   "source": [
    "import os\n",
    "import sys\n",
    "sys.path.append(os.path.join('..', 'src'))\n",
    "\n",
    "import pickle\n",
    "import time\n",
    "import pandas as pd\n",
    "import numpy as np\n",
    "import matplotlib.pyplot as plt\n",
    "import seaborn as sns\n",
    "from concurrent import futures\n",
    "\n",
    "from collaborative_filtering.item_based import ItemBased\n",
    "\n",
    "import warnings\n",
    "warnings.filterwarnings(\"ignore\")\n",
    "\n",
    "%load_ext autoreload\n",
    "%autoreload 2\n",
    "%matplotlib inline"
   ]
  },
  {
   "cell_type": "markdown",
   "metadata": {},
   "source": [
    "### Load Data"
   ]
  },
  {
   "cell_type": "code",
   "execution_count": 2,
   "metadata": {},
   "outputs": [],
   "source": [
    "DATA_DIR = os.path.join('..', 'data', 'processed', 'filtering')"
   ]
  },
  {
   "cell_type": "code",
   "execution_count": 3,
   "metadata": {},
   "outputs": [],
   "source": [
    "with open(os.path.join(DATA_DIR, 'item_to_users.pickle'), 'rb') as file:\n",
    "    item_to_users = pickle.load(file)\n",
    "\n",
    "with open(os.path.join(DATA_DIR, 'train_ratings.pickle'), 'rb') as file:\n",
    "    train_ratings = pickle.load(file)\n",
    "\n",
    "with open(os.path.join(DATA_DIR, 'test_ratings.pickle'), 'rb') as file:\n",
    "    test_ratings = pickle.load(file)"
   ]
  },
  {
   "cell_type": "code",
   "execution_count": 4,
   "metadata": {},
   "outputs": [
    {
     "data": {
      "text/plain": [
       "(9166, 1998)"
      ]
     },
     "execution_count": 4,
     "metadata": {},
     "output_type": "execute_result"
    }
   ],
   "source": [
    "# get number of users and items\n",
    "M = 1 + max(\n",
    "    max([i[0] for i in train_ratings.keys()]),\n",
    "    max([i[0] for i in test_ratings.keys()])\n",
    ")\n",
    "N = 1 + max(\n",
    "    max([i[1] for i in train_ratings.keys()]),\n",
    "    max([i[1] for i in test_ratings.keys()])\n",
    ")\n",
    "M, N"
   ]
  },
  {
   "cell_type": "markdown",
   "metadata": {},
   "source": [
    "### Fit model"
   ]
  },
  {
   "cell_type": "code",
   "execution_count": 21,
   "metadata": {},
   "outputs": [],
   "source": [
    "MIN_NEIGHBORS = 10\n",
    "MAX_NEIGHBORS = 240\n",
    "MIN_COMMON_USERS = 5\n",
    "STEP = 10\n",
    "TRIALS = MAX_NEIGHBORS - MIN_NEIGHBORS + 1\n",
    "N_WORKERS = 12"
   ]
  },
  {
   "cell_type": "code",
   "execution_count": 28,
   "metadata": {},
   "outputs": [
    {
     "data": {
      "text/plain": [
       "[(10, 29),\n",
       " (29, 48),\n",
       " (48, 67),\n",
       " (67, 87),\n",
       " (87, 106),\n",
       " (106, 125),\n",
       " (125, 144),\n",
       " (144, 164),\n",
       " (164, 183),\n",
       " (183, 202),\n",
       " (202, 221),\n",
       " (221, 241)]"
      ]
     },
     "execution_count": 28,
     "metadata": {},
     "output_type": "execute_result"
    }
   ],
   "source": [
    "[(MIN_NEIGHBORS + i * TRIALS // N_WORKERS, MIN_NEIGHBORS +(i + 1) * TRIALS // N_WORKERS) for i in range(N_WORKERS)]"
   ]
  },
  {
   "cell_type": "code",
   "execution_count": 29,
   "metadata": {},
   "outputs": [],
   "source": [
    "def parallel_fit(min_neighbors, max_neighbors, step=STEP):\n",
    "    train_scores, test_scores = [], []\n",
    "    for neighbors in range(min_neighbors, max_neighbors, step):\n",
    "        ibcf = ItemBased(M, N, neighbors=neighbors, min_common_users=MIN_COMMON_USERS)\n",
    "        ibcf.fit(train_ratings, item_to_users)\n",
    "        train_scores.append(ibcf.score(train_ratings))\n",
    "        test_scores.append(ibcf.score(test_ratings))        \n",
    "    return train_scores, test_scores"
   ]
  },
  {
   "cell_type": "code",
   "execution_count": null,
   "metadata": {},
   "outputs": [],
   "source": [
    "pool = futures.ProcessPoolExecutor(N_WORKERS)\n",
    "\n",
    "fs = [\n",
    "    pool.submit(\n",
    "        parallel_fit, \n",
    "        MIN_NEIGHBORS + i * TRIALS // N_WORKERS, \n",
    "        MIN_NEIGHBORS +(i + 1) * TRIALS // N_WORKERS\n",
    "    ) \n",
    "    for i in range(N_WORKERS)\n",
    "]\n",
    "futures.wait(fs)\n",
    "result = [f.result() for f in fs]"
   ]
  },
  {
   "cell_type": "code",
   "execution_count": 18,
   "metadata": {},
   "outputs": [],
   "source": [
    "sns.set()"
   ]
  },
  {
   "cell_type": "code",
   "execution_count": 35,
   "metadata": {},
   "outputs": [
    {
     "data": {
      "image/png": "[encoded data removed]",
      "text/plain": [
       "<Figure size 432x288 with 1 Axes>"
      ]
     },
     "metadata": {},
     "output_type": "display_data"
    }
   ],
   "source": [
    "train_loss = np.concatenate([lst[0] for lst in result])\n",
    "test_loss = np.concatenate([lst[1] for lst in result])\n",
    "sns.lineplot(np.arange(MIN_NEIGHBORS, MAX_NEIGHBORS + 1, STEP), train_loss)\n",
    "sns.lineplot(np.arange(MIN_NEIGHBORS, MAX_NEIGHBORS + 1, STEP), test_loss)\n",
    "plt.xticks(np.arange(MIN_NEIGHBORS, MAX_NEIGHBORS + 1, STEP * 2))\n",
    "plt.yticks(np.arange(0.7, 1, 0.05))\n",
    "plt.legend(['train', 'test'])\n",
    "plt.xlabel('Neighbors')\n",
    "plt.ylabel('RMSE');\n",
    "plt.savefig(\"ibcf.png\")"
   ]
  },
  {
   "cell_type": "code",
   "execution_count": 14,
   "metadata": {},
   "outputs": [
    {
     "data": {
      "text/plain": [
       "array([0.96010633, 0.99493391, 0.98400787, 0.97270937, 0.96608433,\n",
       "       0.95802861, 0.95387174, 0.95053833, 0.94903104, 0.94817878,\n",
       "       0.94728903, 0.94652907, 0.94631934, 0.94611066, 0.94543663,\n",
       "       0.94516864, 0.94501943, 0.94487745, 0.94481995, 0.94473438,\n",
       "       0.94471089, 0.94461591, 0.94449403, 0.94437315])"
      ]
     },
     "execution_count": 14,
     "metadata": {},
     "output_type": "execute_result"
    }
   ],
   "source": [
    "test_loss"
   ]
  },
  {
   "cell_type": "code",
   "execution_count": null,
   "metadata": {},
   "outputs": [],
   "source": []
  }
 ],
 "metadata": {
  "kernelspec": {
   "display_name": "Python 3",
   "language": "python",
   "name": "python3"
  },
  "language_info": {
   "codemirror_mode": {
    "name": "ipython",
    "version": 3
   },
   "file_extension": ".py",
   "mimetype": "text/x-python",
   "name": "python",
   "nbconvert_exporter": "python",
   "pygments_lexer": "ipython3",
   "version": "3.7.5"
  }
 },
 "nbformat": 4,
 "nbformat_minor": 4
}
