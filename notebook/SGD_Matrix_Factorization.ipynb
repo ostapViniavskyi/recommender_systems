{
 "cells": [
  {
   "cell_type": "code",
   "execution_count": 1,
   "metadata": {},
   "outputs": [],
   "source": [
    "import os\n",
    "import sys\n",
    "sys.path.append(os.path.join('..', 'src'))\n",
    "\n",
    "import pickle\n",
    "import time\n",
    "import numpy as np\n",
    "import matplotlib.pyplot as plt\n",
    "import tensorflow.keras.backend as K\n",
    "import seaborn as sns\n",
    "import warnings\n",
    "warnings.filterwarnings(\"ignore\")\n",
    "sns.set()\n",
    "\n",
    "from tensorflow.keras.models import Model\n",
    "from tensorflow.keras.layers import Embedding, Add, Flatten, Dot, Input\n",
    "from tensorflow.keras.optimizers import SGD\n",
    "from tensorflow.keras.regularizers import l2\n",
    "from tensorflow.keras.callbacks import EarlyStopping, LearningRateScheduler"
   ]
  },
  {
   "cell_type": "markdown",
   "metadata": {},
   "source": [
    "### Load and prepare data"
   ]
  },
  {
   "cell_type": "code",
   "execution_count": 2,
   "metadata": {},
   "outputs": [],
   "source": [
    "DATA_DIR = os.path.join('..', 'data', 'processed', 'filtering')"
   ]
  },
  {
   "cell_type": "code",
   "execution_count": 3,
   "metadata": {},
   "outputs": [],
   "source": [
    "with open(os.path.join(DATA_DIR, 'train_ratings.pickle'), 'rb') as file:\n",
    "    train_ratings = pickle.load(file)\n",
    "\n",
    "with open(os.path.join(DATA_DIR, 'test_ratings.pickle'), 'rb') as file:\n",
    "    test_ratings = pickle.load(file)"
   ]
  },
  {
   "cell_type": "code",
   "execution_count": 4,
   "metadata": {},
   "outputs": [
    {
     "data": {
      "text/plain": [
       "(9166, 1998)"
      ]
     },
     "execution_count": 4,
     "metadata": {},
     "output_type": "execute_result"
    }
   ],
   "source": [
    "# get number of users and items\n",
    "M = 1 + max(\n",
    "    max([i[0] for i in train_ratings.keys()]),\n",
    "    max([i[0] for i in test_ratings.keys()])\n",
    ")\n",
    "N = 1 + max(\n",
    "    max([i[1] for i in train_ratings.keys()]),\n",
    "    max([i[1] for i in test_ratings.keys()])\n",
    ")\n",
    "M, N"
   ]
  },
  {
   "cell_type": "code",
   "execution_count": 5,
   "metadata": {},
   "outputs": [],
   "source": [
    "X_train = np.array(list(zip(*train_ratings.keys())))\n",
    "y_train = np.array(list(train_ratings.values()))\n",
    "               \n",
    "X_test = np.array(list(zip(*test_ratings.keys())))\n",
    "y_test = np.array(list(test_ratings.values()))"
   ]
  },
  {
   "cell_type": "code",
   "execution_count": 6,
   "metadata": {},
   "outputs": [
    {
     "data": {
      "text/plain": [
       "4.238397468222365"
      ]
     },
     "execution_count": 6,
     "metadata": {},
     "output_type": "execute_result"
    }
   ],
   "source": [
    "# compute global mean\n",
    "mean = np.mean(y_train)\n",
    "mean"
   ]
  },
  {
   "cell_type": "markdown",
   "metadata": {},
   "source": [
    "### Build the model"
   ]
  },
  {
   "cell_type": "code",
   "execution_count": 7,
   "metadata": {},
   "outputs": [],
   "source": [
    "def build_model(M, N, K, lmbda=0.):\n",
    "    \"\"\"\n",
    "    Build a model for matrix factorization\n",
    "    Args:\n",
    "        M (int): number of users\n",
    "        N (int): number of items\n",
    "        K (int): size of inner (latent) dimension\n",
    "        lmbda (float): L2-regularization parameter\n",
    "    Returns:\n",
    "        keras.models.Model: model for MF\n",
    "    \"\"\"\n",
    "    w = Input((1, )) \n",
    "    u = Input((1, ))\n",
    "    w_vec = Embedding(M, K)(w)  # user embeddings\n",
    "    u_vec = Embedding(N, K)(u)  # item embeddings\n",
    "    \n",
    "    w_bias = Embedding(M, 1)(w)  # user bias\n",
    "    u_bias = Embedding(N, 1)(u)  # item bias\n",
    "    \n",
    "    r_pred = Dot(axes=2)([w_vec, u_vec]) # predicted rating w/o biases\n",
    "    r_pred = Add()([r_pred, w_bias, u_bias])\n",
    "    r_pred = Flatten()(r_pred)\n",
    "    \n",
    "    model = Model(inputs=[w, u], outputs=[r_pred])\n",
    "    return model"
   ]
  },
  {
   "cell_type": "markdown",
   "metadata": {},
   "source": [
    "### Example of keras-model architecture"
   ]
  },
  {
   "cell_type": "code",
   "execution_count": 10,
   "metadata": {},
   "outputs": [],
   "source": [
    "model = build_model(M, N, K=100)"
   ]
  },
  {
   "cell_type": "code",
   "execution_count": 12,
   "metadata": {},
   "outputs": [
    {
     "name": "stdout",
     "output_type": "stream",
     "text": [
      "Model: \"model_1\"\n",
      "__________________________________________________________________________________________________\n",
      "Layer (type)                    Output Shape         Param #     Connected to                     \n",
      "==================================================================================================\n",
      "input_3 (InputLayer)            [(None, 1)]          0                                            \n",
      "__________________________________________________________________________________________________\n",
      "input_4 (InputLayer)            [(None, 1)]          0                                            \n",
      "__________________________________________________________________________________________________\n",
      "embedding_4 (Embedding)         (None, 1, 100)       916600      input_3[0][0]                    \n",
      "__________________________________________________________________________________________________\n",
      "embedding_5 (Embedding)         (None, 1, 100)       199800      input_4[0][0]                    \n",
      "__________________________________________________________________________________________________\n",
      "dot_1 (Dot)                     (None, 1, 1)         0           embedding_4[0][0]                \n",
      "                                                                 embedding_5[0][0]                \n",
      "__________________________________________________________________________________________________\n",
      "embedding_6 (Embedding)         (None, 1, 1)         9166        input_3[0][0]                    \n",
      "__________________________________________________________________________________________________\n",
      "embedding_7 (Embedding)         (None, 1, 1)         1998        input_4[0][0]                    \n",
      "__________________________________________________________________________________________________\n",
      "add_1 (Add)                     (None, 1, 1)         0           dot_1[0][0]                      \n",
      "                                                                 embedding_6[0][0]                \n",
      "                                                                 embedding_7[0][0]                \n",
      "__________________________________________________________________________________________________\n",
      "flatten_1 (Flatten)             (None, 1)            0           add_1[0][0]                      \n",
      "==================================================================================================\n",
      "Total params: 1,127,564\n",
      "Trainable params: 1,127,564\n",
      "Non-trainable params: 0\n",
      "__________________________________________________________________________________________________\n"
     ]
    }
   ],
   "source": [
    "model.summary()"
   ]
  },
  {
   "cell_type": "markdown",
   "metadata": {},
   "source": [
    "### Train the model"
   ]
  },
  {
   "cell_type": "code",
   "execution_count": 13,
   "metadata": {},
   "outputs": [],
   "source": [
    "def rmse(y_true, y_pred):\n",
    "    return K.sqrt(K.mean(K.square(y_pred - y_true)))"
   ]
  },
  {
   "cell_type": "code",
   "execution_count": 14,
   "metadata": {},
   "outputs": [],
   "source": [
    "LOSS = 'mse'\n",
    "LR = 0.02\n",
    "RATE_DECAY = 0\n",
    "EPOCHS = 10\n",
    "BATCH_SIZE = 64"
   ]
  },
  {
   "cell_type": "code",
   "execution_count": 16,
   "metadata": {},
   "outputs": [],
   "source": [
    "def search_k(min_k, max_k, step_k=1, l2_reg=0):\n",
    "    train_score, test_scores = [], []\n",
    "    \n",
    "    for k in range(min_k, max_k + 1, step_k):\n",
    "        print(f\"Number of latent factors: {k}\", end='  ')\n",
    "        model_k = build_model(M, N, k, lmbda=l2_reg)\n",
    "        model_k.compile(\n",
    "            loss=LOSS,\n",
    "            optimizer=SGD(lr=LR, decay=RATE_DECAY, momentum=0.95),\n",
    "            metrics=[rmse]\n",
    "        )\n",
    "        \n",
    "        history = model_k.fit(\n",
    "            x=[*X_train],\n",
    "            y=y_train-mean,\n",
    "            epochs=EPOCHS,\n",
    "            batch_size=BATCH_SIZE,\n",
    "            validation_data=([*X_test], y_test - mean),\n",
    "            verbose=0,\n",
    "            shuffle=True\n",
    "        )\n",
    "        loss, train_rmse_score = model_k.evaluate([*X_train], y_train - mean, verbose=0)\n",
    "        loss, rmse_score = model_k.evaluate([*X_test], y_test - mean, verbose=0)\n",
    "        print(f\"Train RMSE: {train_rmse_score}, test RMSE: {rmse_score}\")\n",
    "        train_score.append(train_rmse_score)\n",
    "        test_scores.append(rmse_score) \n",
    "    return train_score, test_scores"
   ]
  },
  {
   "cell_type": "code",
   "execution_count": 17,
   "metadata": {},
   "outputs": [
    {
     "name": "stdout",
     "output_type": "stream",
     "text": [
      "Number of latent factors: 3  Train RMSE: 0.802067756652832, test RMSE: 0.8574426770210266\n",
      "Number of latent factors: 6  Train RMSE: 0.8010419011116028, test RMSE: 0.8575156927108765\n",
      "Number of latent factors: 9  Train RMSE: 0.8002146482467651, test RMSE: 0.8572883605957031\n",
      "Number of latent factors: 12  Train RMSE: 0.7992062568664551, test RMSE: 0.8574571013450623\n",
      "Number of latent factors: 15  Train RMSE: 0.7980633974075317, test RMSE: 0.8571497201919556\n",
      "Number of latent factors: 18  Train RMSE: 0.7971892952919006, test RMSE: 0.8576011657714844\n",
      "Number of latent factors: 21  Train RMSE: 0.7964701652526855, test RMSE: 0.8573501110076904\n",
      "Number of latent factors: 24  Train RMSE: 0.7955167889595032, test RMSE: 0.8571281433105469\n",
      "Number of latent factors: 27  Train RMSE: 0.7947237491607666, test RMSE: 0.8575751185417175\n",
      "Number of latent factors: 30  Train RMSE: 0.7935563325881958, test RMSE: 0.8571064472198486\n"
     ]
    }
   ],
   "source": [
    "train_scores, test_scores = search_k(3, 30, step_k=3)"
   ]
  },
  {
   "cell_type": "code",
   "execution_count": 22,
   "metadata": {},
   "outputs": [
    {
     "data": {
      "image/png": "[encoded data removed]",
      "text/plain": [
       "<Figure size 432x288 with 1 Axes>"
      ]
     },
     "metadata": {
      "needs_background": "light"
     },
     "output_type": "display_data"
    }
   ],
   "source": [
    "sns.lineplot(np.arange(3, 30 + 1, 3), train_scores)\n",
    "sns.lineplot(np.arange(3, 30 + 1, 3), test_scores)\n",
    "plt.xticks(np.arange(3, 31,3))\n",
    "plt.legend(['train', 'test'])\n",
    "plt.xlabel('Latent Factors')\n",
    "plt.ylabel('RMSE');\n",
    "plt.savefig(\"latent.png\")"
   ]
  },
  {
   "cell_type": "code",
   "execution_count": null,
   "metadata": {},
   "outputs": [],
   "source": []
  }
 ],
 "metadata": {
  "kernelspec": {
   "display_name": "Python 3",
   "language": "python",
   "name": "python3"
  },
  "language_info": {
   "codemirror_mode": {
    "name": "ipython",
    "version": 3
   },
   "file_extension": ".py",
   "mimetype": "text/x-python",
   "name": "python",
   "nbconvert_exporter": "python",
   "pygments_lexer": "ipython3",
   "version": "3.7.5"
  }
 },
 "nbformat": 4,
 "nbformat_minor": 4
}
