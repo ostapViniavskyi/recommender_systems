{
 "cells": [
  {
   "cell_type": "code",
   "execution_count": 2,
   "metadata": {},
   "outputs": [],
   "source": [
    "import os\n",
    "import sys\n",
    "sys.path.append(os.path.join('..', 'src'))\n",
    "\n",
    "import pickle\n",
    "import time\n",
    "import numpy as np\n",
    "import matplotlib.pyplot as plt\n",
    "import tensorflow.keras.backend as K\n",
    "\n",
    "import warnings\n",
    "warnings.filterwarnings(\"ignore\")\n",
    "\n",
    "from tensorflow.keras.models import Model\n",
    "from tensorflow.keras.layers import Embedding, Add, Flatten, Dot, Input\n",
    "from tensorflow.keras.optimizers import SGD\n",
    "from tensorflow.keras.regularizers import l2\n",
    "from tensorflow.keras.callbacks import EarlyStopping, LearningRateScheduler"
   ]
  },
  {
   "cell_type": "markdown",
   "metadata": {},
   "source": [
    "### Load and prepare data"
   ]
  },
  {
   "cell_type": "code",
   "execution_count": 3,
   "metadata": {},
   "outputs": [],
   "source": [
    "DATA_DIR = os.path.join('..', 'data', 'processed', 'filtering')"
   ]
  },
  {
   "cell_type": "code",
   "execution_count": 4,
   "metadata": {},
   "outputs": [],
   "source": [
    "with open(os.path.join(DATA_DIR, 'train_ratings.pickle'), 'rb') as file:\n",
    "    train_ratings = pickle.load(file)\n",
    "\n",
    "with open(os.path.join(DATA_DIR, 'test_ratings.pickle'), 'rb') as file:\n",
    "    test_ratings = pickle.load(file)"
   ]
  },
  {
   "cell_type": "code",
   "execution_count": 5,
   "metadata": {},
   "outputs": [
    {
     "data": {
      "text/plain": [
       "(9166, 1998)"
      ]
     },
     "execution_count": 5,
     "metadata": {},
     "output_type": "execute_result"
    }
   ],
   "source": [
    "# get number of users and items\n",
    "M = 1 + max(\n",
    "    max([i[0] for i in train_ratings.keys()]),\n",
    "    max([i[0] for i in test_ratings.keys()])\n",
    ")\n",
    "N = 1 + max(\n",
    "    max([i[1] for i in train_ratings.keys()]),\n",
    "    max([i[1] for i in test_ratings.keys()])\n",
    ")\n",
    "M, N"
   ]
  },
  {
   "cell_type": "code",
   "execution_count": 6,
   "metadata": {},
   "outputs": [],
   "source": [
    "X_train = np.array(list(zip(*train_ratings.keys())))\n",
    "y_train = np.array(list(train_ratings.values()))\n",
    "               \n",
    "X_test = np.array(list(zip(*test_ratings.keys())))\n",
    "y_test = np.array(list(test_ratings.values()))"
   ]
  },
  {
   "cell_type": "code",
   "execution_count": 7,
   "metadata": {},
   "outputs": [
    {
     "data": {
      "text/plain": [
       "4.239058234363317"
      ]
     },
     "execution_count": 7,
     "metadata": {},
     "output_type": "execute_result"
    }
   ],
   "source": [
    "# compute global mean\n",
    "mean = np.mean(y_train)\n",
    "mean"
   ]
  },
  {
   "cell_type": "markdown",
   "metadata": {},
   "source": [
    "### Build the model"
   ]
  },
  {
   "cell_type": "code",
   "execution_count": 7,
   "metadata": {},
   "outputs": [],
   "source": [
    "def build_model(M, N, K, lmbda=0.):\n",
    "    \"\"\"\n",
    "    Build a model for matrix factorization\n",
    "    Args:\n",
    "        M (int): number of users\n",
    "        N (int): number of items\n",
    "        K (int): size of inner (latent) dimension\n",
    "        lmbda (float): L2-regularization parameter\n",
    "    Returns:\n",
    "        keras.models.Model: model for MF\n",
    "    \"\"\"\n",
    "    w = Input((1, )) \n",
    "    u = Input((1, ))\n",
    "    w_vec = Embedding(M, K, embeddings_regularizer=l2(lmbda))(w)  # user embeddings\n",
    "    u_vec = Embedding(N, K, embeddings_regularizer=l2(lmbda))(u)  # item embeddings\n",
    "    \n",
    "    w_bias = Embedding(M, 1, embeddings_regularizer=l2(lmbda))(w)  # user bias\n",
    "    u_bias = Embedding(N, 1, embeddings_regularizer=l2(lmbda))(u)  # item bias\n",
    "    \n",
    "    r_pred = Dot(axes=2)([w_vec, u_vec]) # predicted rating w/0 biases\n",
    "    r_pred = Add()([r_pred, w_bias, u_bias])\n",
    "    r_pred = Flatten()(r_pred)\n",
    "    \n",
    "    model = Model(inputs=[w, u], outputs=[r_pred])\n",
    "    return model"
   ]
  },
  {
   "cell_type": "markdown",
   "metadata": {},
   "source": [
    "### Example of keras-model architecture"
   ]
  },
  {
   "cell_type": "code",
   "execution_count": null,
   "metadata": {},
   "outputs": [],
   "source": [
    "model = build_model(M, N, K=10)"
   ]
  },
  {
   "cell_type": "code",
   "execution_count": 9,
   "metadata": {},
   "outputs": [
    {
     "name": "stdout",
     "output_type": "stream",
     "text": [
      "Model: \"model\"\n",
      "__________________________________________________________________________________________________\n",
      "Layer (type)                    Output Shape         Param #     Connected to                     \n",
      "==================================================================================================\n",
      "input_1 (InputLayer)            [(None, 1)]          0                                            \n",
      "__________________________________________________________________________________________________\n",
      "input_2 (InputLayer)            [(None, 1)]          0                                            \n",
      "__________________________________________________________________________________________________\n",
      "embedding (Embedding)           (None, 1, 10)        91660       input_1[0][0]                    \n",
      "__________________________________________________________________________________________________\n",
      "embedding_1 (Embedding)         (None, 1, 10)        19980       input_2[0][0]                    \n",
      "__________________________________________________________________________________________________\n",
      "dot (Dot)                       (None, 1, 1)         0           embedding[0][0]                  \n",
      "                                                                 embedding_1[0][0]                \n",
      "__________________________________________________________________________________________________\n",
      "embedding_2 (Embedding)         (None, 1, 1)         9166        input_1[0][0]                    \n",
      "__________________________________________________________________________________________________\n",
      "embedding_3 (Embedding)         (None, 1, 1)         1998        input_2[0][0]                    \n",
      "__________________________________________________________________________________________________\n",
      "add (Add)                       (None, 1, 1)         0           dot[0][0]                        \n",
      "                                                                 embedding_2[0][0]                \n",
      "                                                                 embedding_3[0][0]                \n",
      "__________________________________________________________________________________________________\n",
      "flatten (Flatten)               (None, 1)            0           add[0][0]                        \n",
      "==================================================================================================\n",
      "Total params: 122,804\n",
      "Trainable params: 122,804\n",
      "Non-trainable params: 0\n",
      "__________________________________________________________________________________________________\n"
     ]
    }
   ],
   "source": [
    "model.summary()"
   ]
  },
  {
   "cell_type": "markdown",
   "metadata": {},
   "source": [
    "### Train the model"
   ]
  },
  {
   "cell_type": "code",
   "execution_count": 10,
   "metadata": {},
   "outputs": [],
   "source": [
    "def rmse(y_true, y_pred):\n",
    "    return K.sqrt(K.mean(K.square(y_pred - y_true)))"
   ]
  },
  {
   "cell_type": "code",
   "execution_count": 28,
   "metadata": {},
   "outputs": [],
   "source": [
    "LOSS = 'mse'\n",
    "LR = 0.1\n",
    "RATE_DECAY = 1e-8\n",
    "EPOCHS = 100\n",
    "BATCH_SIZE = 128"
   ]
  },
  {
   "cell_type": "code",
   "execution_count": 29,
   "metadata": {},
   "outputs": [],
   "source": [
    "def search_k(min_k, max_k, step_k=1, l2_reg=0):\n",
    "    test_scores = []\n",
    "    \n",
    "    for k in range(min_k, max_k + 1, step_k):\n",
    "        print(f\"Number of latent factors: {k}\", end='  ')\n",
    "        model = build_model(M, N, k, lmbda=l2_reg)\n",
    "        model.compile(\n",
    "            loss=LOSS,\n",
    "            optimizer=SGD(lr=LR, decay=RATE_DECAY),\n",
    "            metrics=[rmse]\n",
    "        )\n",
    "        \n",
    "        history = model.fit(\n",
    "            x=[*X_train],\n",
    "            y=y_train-mean,\n",
    "            epochs=EPOCHS,\n",
    "            batch_size=BATCH_SIZE,\n",
    "            validation_data=([*X_test], y_test - mean),\n",
    "            verbose=0\n",
    "        )\n",
    "        \n",
    "        loss, rmse_score = model.evaluate([*X_test], y_test - mean, verbose=0)\n",
    "        print(f\"RMSE: {rmse_score}\")\n",
    "        test_scores.append((k, rmse_score)) \n",
    "    return test_scores"
   ]
  },
  {
   "cell_type": "code",
   "execution_count": 19,
   "metadata": {},
   "outputs": [
    {
     "name": "stdout",
     "output_type": "stream",
     "text": [
      "Number of latent factors: 1  RMSE: 0.8520964980125427\n",
      "Number of latent factors: 3  RMSE: 0.8520238399505615\n",
      "Number of latent factors: 5  RMSE: 0.8518393635749817\n",
      "Number of latent factors: 7  RMSE: 0.8522348999977112\n",
      "Number of latent factors: 9  RMSE: 0.852024257183075\n",
      "Number of latent factors: 11  RMSE: 0.8518834114074707\n",
      "Number of latent factors: 13  RMSE: 0.8517428040504456\n",
      "Number of latent factors: 15  RMSE: 0.8519430160522461\n",
      "Number of latent factors: 17  RMSE: 0.85152667760849\n",
      "Number of latent factors: 19  RMSE: 0.8518016338348389\n"
     ]
    }
   ],
   "source": [
    "search_k(1, 20, step_k=2)"
   ]
  },
  {
   "cell_type": "code",
   "execution_count": null,
   "metadata": {},
   "outputs": [],
   "source": []
  }
 ],
 "metadata": {
  "kernelspec": {
   "display_name": "Python 3",
   "language": "python",
   "name": "python3"
  },
  "language_info": {
   "codemirror_mode": {
    "name": "ipython",
    "version": 3
   },
   "file_extension": ".py",
   "mimetype": "text/x-python",
   "name": "python",
   "nbconvert_exporter": "python",
   "pygments_lexer": "ipython3",
   "version": "3.7.5"
  }
 },
 "nbformat": 4,
 "nbformat_minor": 4
}
